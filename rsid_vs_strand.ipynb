{
 "cells": [
  {
   "cell_type": "code",
   "execution_count": 2,
   "metadata": {},
   "outputs": [
    {
     "name": "stderr",
     "output_type": "stream",
     "text": [
      "/var/folders/kj/41638c3x6wvd_3sycygbtgwm0000gn/T/ipykernel_28937/1779837357.py:5: DtypeWarning: Columns (1) have mixed types. Specify dtype option on import or set low_memory=False.\n",
      "  strand_data = pd.read_csv('/Users/jespervang/Projects/MTX/GWAS_paper/data/strand_files/HumanOmni2-5Exome-8-v1-1-A-strand-b37/HumanOmni2-5Exome-8-v1-1-A-b37.strand', sep='\\t', header=None, names=['Name', 'Chromosome', 'Position', 'Percentage', 'Strand', 'Alleles'])\n"
     ]
    },
    {
     "name": "stdout",
     "output_type": "stream",
     "text": [
      "Number of rsIDs in rsid_data: 2528341\n",
      "               Name Chromosome   Position  Percentage Strand Alleles RsID\n",
      "1         200610-10          1     567302  100.000000      +      AG    .\n",
      "5        200610-107         MT        482  100.000000      -      AG    .\n",
      "6        200610-108         13  110076602  100.000000      +      AG    .\n",
      "7        200610-109         13  110076590  100.000000      +      AG    .\n",
      "10       200610-112         MT       3644  100.000000      -      AG    .\n",
      "...             ...        ...        ...         ...    ...     ...  ...\n",
      "2583074   exm997937         12   48380862   99.173554      +      AG    .\n",
      "2583192   exm998774         12   49167833  100.000000      -      AG    .\n",
      "2583215   exm999050         12   49237781  100.000000      -      AC    .\n",
      "2583270    exm99951          1  152281624  100.000000      -      AG    .\n",
      "2583297   exm999836         12   49438243  100.000000      -      CG    .\n",
      "\n",
      "[7159 rows x 7 columns]\n"
     ]
    }
   ],
   "source": [
    "import pandas as pd\n",
    "\n",
    "# Load data from text files\n",
    "# Update 'sep' parameter as per your actual delimiter, if it's not a comma or tab\n",
    "strand_data = pd.read_csv('/Users/jespervang/Projects/MTX/GWAS_paper/data/strand_files/HumanOmni2-5Exome-8-v1-1-A-strand-b37/HumanOmni2-5Exome-8-v1-1-A-b37.strand', sep='\\t', header=None, names=['Name', 'Chromosome', 'Position', 'Percentage', 'Strand', 'Alleles'])\n",
    "rsid_data = pd.read_csv('/Users/jespervang/Projects/MTX/GWAS_paper/data/strand_files/HumanOmni2-5Exome-8-v1-1-A-strand-b37/HumanOmni25Exome-8v1-1_A_rsids.txt', sep='\\t', header=None, names=['Name', 'RsID'])\n",
    "\n",
    "print(\"Number of rsIDs in rsid_data:\", rsid_data['RsID'].nunique())\n",
    "\n",
    "# Merge the data on the 'Name' column\n",
    "merged_data = pd.merge(strand_data, rsid_data, on='Name', how='left')\n",
    "\n",
    "# Check for non-matching or missing rsIDs\n",
    "non_matching = merged_data[(merged_data['RsID'].isna()) | (merged_data['RsID'] == '.')]\n",
    "\n",
    "# Print out non-matching entries\n",
    "print(non_matching)\n",
    "\n",
    "# Optionally, save the result to a CSV file for further review\n",
    "non_matching.to_csv('non_matching_rsids.csv', index=False)"
   ]
  }
 ],
 "metadata": {
  "kernelspec": {
   "display_name": "GWAS_env",
   "language": "python",
   "name": "python3"
  },
  "language_info": {
   "codemirror_mode": {
    "name": "ipython",
    "version": 3
   },
   "file_extension": ".py",
   "mimetype": "text/x-python",
   "name": "python",
   "nbconvert_exporter": "python",
   "pygments_lexer": "ipython3",
   "version": "3.10.14"
  }
 },
 "nbformat": 4,
 "nbformat_minor": 2
}
