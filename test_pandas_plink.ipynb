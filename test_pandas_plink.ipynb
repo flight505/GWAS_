{
 "cells": [
  {
   "cell_type": "code",
   "execution_count": 7,
   "metadata": {},
   "outputs": [],
   "source": [
    "from pandas_plink import read_plink1_bin"
   ]
  },
  {
   "cell_type": "code",
   "execution_count": 8,
   "metadata": {},
   "outputs": [
    {
     "name": "stdout",
     "output_type": "stream",
     "text": [
      "   0           1  2  3  4  5\n",
      "0  0  200610-126  0  0  0  A\n",
      "1  0   200610-17  0  0  0  A\n",
      "2  0   200610-20  0  0  0  A\n",
      "3  0   200610-24  0  0  0  A\n",
      "4  0   200610-49  0  0  0  G\n",
      "            1  4  5\n",
      "0  200610-126  0  A\n",
      "1   200610-17  0  A\n",
      "2   200610-20  0  A\n",
      "3   200610-24  0  A\n",
      "4   200610-49  0  G\n"
     ]
    }
   ],
   "source": [
    "import pandas as pd\n",
    "\n",
    "# Load the .bim file\n",
    "bim_file = \"/Users/jespervang/Projects/MTX/GWAS_paper/data/Raw_data/batch1.bim\"\n",
    "bim_df = pd.read_csv(bim_file, sep=\"\\t\", header=None)\n",
    "\n",
    "# Display the first few rows of the .bim file\n",
    "print(bim_df.head())\n",
    "\n",
    "# Inspect the alleles\n",
    "# Columns typically: [chr, SNP, genetic_distance, bp_position, a1, a0]\n",
    "print(bim_df[[1, 4, 5]].head())  # SNP identifier, a1 (major), a0 (minor)"
   ]
  },
  {
   "cell_type": "code",
   "execution_count": 9,
   "metadata": {},
   "outputs": [
    {
     "name": "stderr",
     "output_type": "stream",
     "text": [
      "Mapping files: 100%|██████████| 3/3 [00:02<00:00,  1.41it/s]"
     ]
    },
    {
     "name": "stdout",
     "output_type": "stream",
     "text": [
      "<xarray.DataArray 'genotype' (sample: 1541, variant: 2546527)> Size: 16GB\n",
      "dask.array<transpose, shape=(1541, 2546527), dtype=float32, chunksize=(1024, 1024), chunktype=numpy.ndarray>\n",
      "Coordinates: (12/14)\n",
      "  * sample   (sample) object 12kB '2008113' '2009710' ... '2015702' '2014226'\n",
      "  * variant  (variant) <U14 143MB 'variant0' 'variant1' ... 'variant2546526'\n",
      "    fid      (sample) object 12kB 'leukxv3999462071_R01C01' ... '200137000170...\n",
      "    iid      (sample) object 12kB '2008113' '2009710' ... '2015702' '2014226'\n",
      "    father   (sample) object 12kB '0' '0' '0' '0' '0' ... '0' '0' '0' '0' '0'\n",
      "    mother   (sample) object 12kB '0' '0' '0' '0' '0' ... '0' '0' '0' '0' '0'\n",
      "    ...       ...\n",
      "    chrom    (variant) object 20MB '0' '0' '0' '0' '0' ... '26' '26' '26' '26'\n",
      "    snp      (variant) object 20MB '200610-126' '200610-17' ... '200610-37'\n",
      "    cm       (variant) float64 20MB 0.0 0.0 0.0 0.0 ... 1e+04 1e+04 1e+04 1e+04\n",
      "    pos      (variant) int32 10MB 0 0 0 0 0 0 ... 16327 16390 16391 16399 16482\n",
      "    a0       (variant) object 20MB '0' '0' '0' '0' '0' ... 'A' 'A' 'A' 'G' 'G'\n",
      "    a1       (variant) object 20MB 'A' 'A' 'A' 'A' 'G' ... 'G' 'G' 'G' 'A' 'A'\n"
     ]
    },
    {
     "name": "stderr",
     "output_type": "stream",
     "text": [
      "\n"
     ]
    }
   ],
   "source": [
    "G = read_plink1_bin(\"/Users/jespervang/Projects/MTX/GWAS_paper/data/Raw_data/batch1.bed\", \"/Users/jespervang/Projects/MTX/GWAS_paper/data/Raw_data/batch1.bim\", \"/Users/jespervang/Projects/MTX/GWAS_paper/data/Raw_data/batch1.fam\", verbose=True)\n",
    "print(G)"
   ]
  },
  {
   "cell_type": "code",
   "execution_count": 10,
   "metadata": {},
   "outputs": [
    {
     "name": "stdout",
     "output_type": "stream",
     "text": [
      "<xarray.DataArray 'genotype' (sample: 5, variant: 5)> Size: 100B\n",
      "array([[2., 2., 2., 2., 2.],\n",
      "       [2., 2., 2., 2., 2.],\n",
      "       [2., 2., 2., 2., 2.],\n",
      "       [2., 2., 2., 2., 2.],\n",
      "       [2., 2., 2., 2., 2.]], dtype=float32)\n",
      "Coordinates: (12/14)\n",
      "  * sample   (sample) object 40B '2008113' '2009710' ... '2010228' '2010234'\n",
      "  * variant  (variant) <U14 280B 'variant0' 'variant1' ... 'variant3' 'variant4'\n",
      "    fid      (sample) object 40B 'leukxv3999462071_R01C01' ... 'leukxv3999462...\n",
      "    iid      (sample) object 40B '2008113' '2009710' ... '2010228' '2010234'\n",
      "    father   (sample) object 40B '0' '0' '0' '0' '0'\n",
      "    mother   (sample) object 40B '0' '0' '0' '0' '0'\n",
      "    ...       ...\n",
      "    chrom    (variant) object 40B '0' '0' '0' '0' '0'\n",
      "    snp      (variant) object 40B '200610-126' '200610-17' ... '200610-49'\n",
      "    cm       (variant) float64 40B 0.0 0.0 0.0 0.0 0.0\n",
      "    pos      (variant) int32 20B 0 0 0 0 0\n",
      "    a0       (variant) object 40B '0' '0' '0' '0' '0'\n",
      "    a1       (variant) object 40B 'A' 'A' 'A' 'A' 'G'\n"
     ]
    }
   ],
   "source": [
    "from pandas_plink import read_plink1_bin\n",
    "\n",
    "# Set the reference allele to a1 (major allele)\n",
    "G = read_plink1_bin(\"/Users/jespervang/Projects/MTX/GWAS_paper/data/Raw_data/batch1.bed\", \"/Users/jespervang/Projects/MTX/GWAS_paper/data/Raw_data/batch1.bim\", \"/Users/jespervang/Projects/MTX/GWAS_paper/data/Raw_data/batch1.fam\", verbose=False, ref=\"a1\")\n",
    "\n",
    "# Compute and display the first 5x5 matrix\n",
    "print(G[0:5, 0:5].compute())"
   ]
  },
  {
   "cell_type": "code",
   "execution_count": 11,
   "metadata": {},
   "outputs": [
    {
     "name": "stdout",
     "output_type": "stream",
     "text": [
      "<xarray.DataArray 'genotype' (sample: 5, variant: 5)> Size: 100B\n",
      "array([[0., 0., 0., 0., 0.],\n",
      "       [0., 0., 0., 0., 0.],\n",
      "       [0., 0., 0., 0., 0.],\n",
      "       [0., 0., 0., 0., 0.],\n",
      "       [0., 0., 0., 0., 0.]], dtype=float32)\n",
      "Coordinates: (12/14)\n",
      "  * sample   (sample) object 40B '2008113' '2009710' ... '2010228' '2010234'\n",
      "  * variant  (variant) <U14 280B 'variant0' 'variant1' ... 'variant3' 'variant4'\n",
      "    fid      (sample) object 40B 'leukxv3999462071_R01C01' ... 'leukxv3999462...\n",
      "    iid      (sample) object 40B '2008113' '2009710' ... '2010228' '2010234'\n",
      "    father   (sample) object 40B '0' '0' '0' '0' '0'\n",
      "    mother   (sample) object 40B '0' '0' '0' '0' '0'\n",
      "    ...       ...\n",
      "    chrom    (variant) object 40B '0' '0' '0' '0' '0'\n",
      "    snp      (variant) object 40B '200610-126' '200610-17' ... '200610-49'\n",
      "    cm       (variant) float64 40B 0.0 0.0 0.0 0.0 0.0\n",
      "    pos      (variant) int32 20B 0 0 0 0 0\n",
      "    a0       (variant) object 40B '0' '0' '0' '0' '0'\n",
      "    a1       (variant) object 40B 'A' 'A' 'A' 'A' 'G'\n"
     ]
    }
   ],
   "source": [
    "from pandas_plink import read_plink1_bin\n",
    "\n",
    "# Set the reference allele to a1 (major allele)\n",
    "G = read_plink1_bin(\"/Users/jespervang/Projects/MTX/GWAS_paper/data/Raw_data/batch1.bed\", \"/Users/jespervang/Projects/MTX/GWAS_paper/data/Raw_data/batch1.bim\", \"/Users/jespervang/Projects/MTX/GWAS_paper/data/Raw_data/batch1.fam\", verbose=False, ref=\"a0\")\n",
    "\n",
    "# Compute and display the first 5x5 matrix\n",
    "print(G[0:5, 0:5].compute())"
   ]
  },
  {
   "cell_type": "code",
   "execution_count": 12,
   "metadata": {},
   "outputs": [
    {
     "name": "stdout",
     "output_type": "stream",
     "text": [
      "['variant0' 'variant1' 'variant2' ... 'variant2546524' 'variant2546525'\n",
      " 'variant2546526']\n"
     ]
    }
   ],
   "source": [
    "print(G.coords['variant'].values)"
   ]
  },
  {
   "cell_type": "code",
   "execution_count": 13,
   "metadata": {},
   "outputs": [
    {
     "name": "stdout",
     "output_type": "stream",
     "text": [
      "['variant0' 'variant1' 'variant2' ... 'variant2546524' 'variant2546525'\n",
      " 'variant2546526']\n"
     ]
    }
   ],
   "source": [
    "variant_names = G.coords['variant'].values\n",
    "print(variant_names)  # Display all variant names\n",
    "\n",
    "# Select the first variant by name\n",
    "first_variant_name = variant_names[0]\n",
    "genotype_data = G.sel(variant=first_variant_name).compute()"
   ]
  },
  {
   "cell_type": "code",
   "execution_count": 14,
   "metadata": {},
   "outputs": [
    {
     "name": "stdout",
     "output_type": "stream",
     "text": [
      "['variant0' 'variant1' 'variant2' ... 'variant2546524' 'variant2546525'\n",
      " 'variant2546526']\n",
      "Major allele: 0, Minor allele: A\n"
     ]
    }
   ],
   "source": [
    "import numpy as np\n",
    "from pandas_plink import read_plink1_bin\n",
    "\n",
    "# Load genotype data\n",
    "G = read_plink1_bin(\"/Users/jespervang/Projects/MTX/GWAS_paper/data/Raw_data/batch1.bed\", \"/Users/jespervang/Projects/MTX/GWAS_paper/data/Raw_data/batch1.bim\", \"/Users/jespervang/Projects/MTX/GWAS_paper/data/Raw_data/batch1.fam\", verbose=False, ref=\"a1\")\n",
    "\n",
    "# Inspect the 'variant' coordinate to understand its structure\n",
    "print(G.coords['variant'].values)\n",
    "\n",
    "# Select the first variant by name\n",
    "variant_names = G.coords['variant'].values\n",
    "first_variant_name = variant_names[0]\n",
    "genotype_data = G.sel(variant=first_variant_name).compute()\n",
    "\n",
    "# Count alleles\n",
    "allele_counts = np.sum(genotype_data, axis=0)\n",
    "total_alleles = 2 * genotype_data.shape[0]  # 2 alleles per individual\n",
    "\n",
    "# Calculate frequencies\n",
    "allele1_count = total_alleles - allele_counts\n",
    "allele1_freq = allele1_count / total_alleles\n",
    "allele2_freq = allele_counts / total_alleles\n",
    "\n",
    "# Determine major and minor alleles\n",
    "if allele1_freq > allele2_freq:\n",
    "    major_allele = G.variant.sel(variant=first_variant_name).a1.values\n",
    "    minor_allele = G.variant.sel(variant=first_variant_name).a0.values\n",
    "else:\n",
    "    major_allele = G.variant.sel(variant=first_variant_name).a0.values\n",
    "    minor_allele = G.variant.sel(variant=first_variant_name).a1.values\n",
    "\n",
    "print(f\"Major allele: {major_allele}, Minor allele: {minor_allele}\")"
   ]
  },
  {
   "cell_type": "code",
   "execution_count": 20,
   "metadata": {},
   "outputs": [
    {
     "name": "stdout",
     "output_type": "stream",
     "text": [
      "Information for SNP rs10103507: {'chromosome': array(['8'], dtype=object), 'position': array([27740693], dtype=int32), 'alleles': (array(['G'], dtype=object), array(['A'], dtype=object))}\n"
     ]
    }
   ],
   "source": [
    "snp_id = \"rs10103507\"\n",
    "try:\n",
    "    snp_selection = G.sel(variant=G.variant.snp == snp_id)\n",
    "    if snp_selection.sizes['variant'] > 0:\n",
    "        snp_info = {\n",
    "            'chromosome': snp_selection['chrom'].values,\n",
    "            'position': snp_selection['pos'].values,\n",
    "            'alleles': (snp_selection['a1'].values, snp_selection['a0'].values)\n",
    "        }\n",
    "        print(f\"Information for SNP {snp_id}: {snp_info}\")\n",
    "    else:\n",
    "        print(f\"SNP {snp_id} not found in the data.\")\n",
    "except KeyError:\n",
    "    print(f\"SNP {snp_id} not found in the data.\")\n"
   ]
  }
 ],
 "metadata": {
  "kernelspec": {
   "display_name": "GWAS_paper_env",
   "language": "python",
   "name": "python3"
  },
  "language_info": {
   "codemirror_mode": {
    "name": "ipython",
    "version": 3
   },
   "file_extension": ".py",
   "mimetype": "text/x-python",
   "name": "python",
   "nbconvert_exporter": "python",
   "pygments_lexer": "ipython3",
   "version": "3.10.14"
  }
 },
 "nbformat": 4,
 "nbformat_minor": 2
}
